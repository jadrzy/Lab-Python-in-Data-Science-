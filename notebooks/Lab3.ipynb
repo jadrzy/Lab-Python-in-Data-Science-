{
  "nbformat": 4,
  "nbformat_minor": 0,
  "metadata": {
    "colab": {
      "provenance": [],
      "authorship_tag": "ABX9TyM+WnplJX6JwBwptRG6kwvb",
      "include_colab_link": true
    },
    "kernelspec": {
      "name": "python3",
      "display_name": "Python 3"
    },
    "language_info": {
      "name": "python"
    }
  },
  "cells": [
    {
      "cell_type": "markdown",
      "metadata": {
        "id": "view-in-github",
        "colab_type": "text"
      },
      "source": [
        "<a href=\"https://colab.research.google.com/github/jadrzy/Lab-Python-in-Data-Science-/blob/main/notebooks/Lab3.ipynb\" target=\"_parent\"><img src=\"https://colab.research.google.com/assets/colab-badge.svg\" alt=\"Open In Colab\"/></a>"
      ]
    },
    {
      "cell_type": "markdown",
      "source": [
        "**Clone git repository**\n",
        "\n"
      ],
      "metadata": {
        "id": "nmzxkun3XbMq"
      }
    },
    {
      "cell_type": "code",
      "source": [
        "!git clone https://{token}github.com/jadrzy/Lab-Python-in-Data-Science-.git"
      ],
      "metadata": {
        "colab": {
          "base_uri": "https://localhost:8080/"
        },
        "id": "kY7GIdLqXujW",
        "outputId": "0fff0aab-b20b-4151-e7fd-a951b5d1e1a2"
      },
      "execution_count": 5,
      "outputs": [
        {
          "output_type": "stream",
          "name": "stdout",
          "text": [
            "fatal: destination path 'Lab-Python-in-Data-Science-' already exists and is not an empty directory.\n"
          ]
        }
      ]
    },
    {
      "cell_type": "markdown",
      "source": [
        "**Import dataset**"
      ],
      "metadata": {
        "id": "NZVbgVQSX8GW"
      }
    },
    {
      "cell_type": "code",
      "source": [
        "import pandas as pd\n",
        "data = pd.read_csv('/content/Lab-Python-in-Data-Science-/datasets/winequality-red.csv', sep = ';') # When data separator needed"
      ],
      "metadata": {
        "id": "zhX7ltxWXX22"
      },
      "execution_count": 6,
      "outputs": []
    },
    {
      "cell_type": "markdown",
      "source": [],
      "metadata": {
        "id": "36Zzp_3gYOxw"
      }
    },
    {
      "cell_type": "code",
      "source": [],
      "metadata": {
        "id": "xOQBpQUwW_2D"
      },
      "execution_count": null,
      "outputs": []
    }
  ]
}