{
  "nbformat": 4,
  "nbformat_minor": 0,
  "metadata": {
    "colab": {
      "provenance": [],
      "authorship_tag": "ABX9TyOBkTCY5UmeqA5yAZ10dhon",
      "include_colab_link": true
    },
    "kernelspec": {
      "name": "python3",
      "display_name": "Python 3"
    },
    "language_info": {
      "name": "python"
    }
  },
  "cells": [
    {
      "cell_type": "markdown",
      "metadata": {
        "id": "view-in-github",
        "colab_type": "text"
      },
      "source": [
        "<a href=\"https://colab.research.google.com/github/jadrzy/Lab-Python-in-Data-Science-/blob/main/notebooks/Lab3.ipynb\" target=\"_parent\"><img src=\"https://colab.research.google.com/assets/colab-badge.svg\" alt=\"Open In Colab\"/></a>"
      ]
    },
    {
      "cell_type": "markdown",
      "source": [
        "**Clone git repository**\n",
        "\n"
      ],
      "metadata": {
        "id": "nmzxkun3XbMq"
      }
    },
    {
      "cell_type": "code",
      "source": [
        "!git clone https://{token}@github.com/jadrzy/Lab-Python-in-Data-Science-.git"
      ],
      "metadata": {
        "colab": {
          "base_uri": "https://localhost:8080/"
        },
        "id": "kY7GIdLqXujW",
        "outputId": "12c560f7-3aa5-4325-e16d-43d0cec35b99"
      },
      "execution_count": 3,
      "outputs": [
        {
          "output_type": "stream",
          "name": "stdout",
          "text": [
            "Cloning into 'Lab-Python-in-Data-Science-'...\n",
            "remote: Enumerating objects: 109, done.\u001b[K\n",
            "remote: Counting objects: 100% (109/109), done.\u001b[K\n",
            "remote: Compressing objects: 100% (80/80), done.\u001b[K\n",
            "remote: Total 109 (delta 32), reused 77 (delta 17), pack-reused 0 (from 0)\u001b[K\n",
            "Receiving objects: 100% (109/109), 189.97 KiB | 1.44 MiB/s, done.\n",
            "Resolving deltas: 100% (32/32), done.\n"
          ]
        }
      ]
    },
    {
      "cell_type": "markdown",
      "source": [
        "**Import dataset**"
      ],
      "metadata": {
        "id": "NZVbgVQSX8GW"
      }
    },
    {
      "cell_type": "code",
      "source": [
        "import pandas as pd\n",
        "data = pd.read_csv('/content/Lab-Python-in-Data-Science-/datasets/winequality-red.csv', sep = ';') # When data separator needed"
      ],
      "metadata": {
        "id": "zhX7ltxWXX22"
      },
      "execution_count": null,
      "outputs": []
    },
    {
      "cell_type": "markdown",
      "source": [],
      "metadata": {
        "id": "36Zzp_3gYOxw"
      }
    },
    {
      "cell_type": "code",
      "source": [],
      "metadata": {
        "id": "xOQBpQUwW_2D"
      },
      "execution_count": null,
      "outputs": []
    }
  ]
}